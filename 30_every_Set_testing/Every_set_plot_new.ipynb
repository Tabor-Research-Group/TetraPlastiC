{
 "cells": [
  {
   "cell_type": "code",
   "execution_count": null,
   "id": "a5fefabf",
   "metadata": {},
   "outputs": [],
   "source": [
    "import pickle\n",
    "import matplotlib.pyplot as plt\n",
    "import numpy as np\n",
    "\n",
    "plt.rcParams['figure.dpi'] = 300\n",
    "\n",
    "# Load data\n",
    "def load_pickle(filepath):\n",
    "    with open(filepath, 'rb') as f:\n",
    "        return pickle.load(f)\n",
    "\n",
    "# The file names here are chose based on which training sets are considered\n",
    "train_scores = load_pickle('7_Operations_SISSO/train_scores.pkl')\n",
    "test_scores = load_pickle('7_Operations_SISSO/test_scores.pkl')\n",
    "train_scores_whole = load_pickle('Train_with_the_whole_descriptor_set/train_scores.pkl')\n",
    "test_scores_whole = load_pickle('Train_with_the_whole_descriptor_set/test_scores.pkl')\n",
    "\n",
    "# Compute medians\n",
    "median = np.median(test_scores)\n",
    "median_whole = np.median(test_scores_whole)\n",
    "\n",
    "# Compute score distributions\n",
    "def compute_score_distribution(scores, bins):\n",
    "    hist, _ = np.histogram(scores, bins=bins)\n",
    "    return hist / len(scores)\n",
    "\n",
    "bins = np.arange(-3.0, 1.1, 0.1)  # Defines bin edges for histogram\n",
    "score_number_ratio = compute_score_distribution(test_scores, bins)\n",
    "score_number_ratio_whole = compute_score_distribution(test_scores_whole, bins)\n",
    "score_x = bins[:-1]  # Midpoints of bins for plotting\n",
    "\n",
    "# Plot histogram\n",
    "plt.bar(score_x - 0.02, score_number_ratio_whole, width=0.04, color='#264653', label='$N_{descriptor} = 6$')\n",
    "plt.vlines(median_whole, 0, 1.00, color='#264653', linestyle='dashed')\n",
    "plt.bar(score_x + 0.02, score_number_ratio, width=0.04, color='#ffb703', label='$N_{descriptor} = 2$')\n",
    "plt.vlines(median, 0, 1.00, color='#ffb703', linestyle='dashed')\n",
    "\n",
    "# Formatting\n",
    "plt.xlabel('$R^2$ on the Testing Set', fontsize=16)\n",
    "plt.xticks(fontsize=12)\n",
    "plt.yticks(fontsize=12)\n",
    "plt.ylabel('Ratio', fontsize=16)\n",
    "plt.ylim(0, 0.18)\n",
    "plt.legend(fontsize=16)\n",
    "plt.title('Energy Decomposition Analysis', fontsize=16)\n",
    "plt.show()\n"
   ]
  }
 ],
 "metadata": {
  "kernelspec": {
   "display_name": "Python 3",
   "language": "python",
   "name": "python3"
  },
  "language_info": {
   "codemirror_mode": {
    "name": "ipython",
    "version": 3
   },
   "file_extension": ".py",
   "mimetype": "text/x-python",
   "name": "python",
   "nbconvert_exporter": "python",
   "pygments_lexer": "ipython3",
   "version": "3.6.15"
  }
 },
 "nbformat": 4,
 "nbformat_minor": 5
}
